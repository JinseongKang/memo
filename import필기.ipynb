{
  "nbformat": 4,
  "nbformat_minor": 0,
  "metadata": {
    "colab": {
      "name": "import.ipynb",
      "provenance": [],
      "include_colab_link": true
    },
    "kernelspec": {
      "name": "python3",
      "display_name": "Python 3"
    },
    "language_info": {
      "name": "python"
    }
  },
  "cells": [
    {
      "cell_type": "markdown",
      "metadata": {
        "id": "view-in-github",
        "colab_type": "text"
      },
      "source": [
        "<a href=\"https://colab.research.google.com/github/JinseongKang/memo/blob/main/import%ED%95%84%EA%B8%B0.ipynb\" target=\"_parent\"><img src=\"https://colab.research.google.com/assets/colab-badge.svg\" alt=\"Open In Colab\"/></a>"
      ]
    },
    {
      "cell_type": "code",
      "metadata": {
        "id": "JXicrkYOzPRo"
      },
      "source": [
        "import numpy as np\n",
        "n = np.random.randn(100)"
      ],
      "execution_count": null,
      "outputs": []
    },
    {
      "cell_type": "markdown",
      "metadata": {
        "id": "EMw1pDsDiJmF"
      },
      "source": [
        "Randn은 0을 중심으로 정규분포를 갖는 백개의 랜덤 숫자를 만들어 내는 것. "
      ]
    },
    {
      "cell_type": "code",
      "metadata": {
        "id": "oKT4vn4MwyLA"
      },
      "source": [
        "import matplotlib\n",
        "import matplotlib.pyplot\n",
        "from matplotlib import pyplot\n",
        "from matplotlib.pyplot import hist"
      ],
      "execution_count": null,
      "outputs": []
    },
    {
      "cell_type": "markdown",
      "metadata": {
        "id": "IDqVW1I4iHry"
      },
      "source": [
        "Matplotlib이라는 폴더가 있고 \n",
        "\n",
        "그 속에 pylot.py라는 모듈이 있다. (모듈 속에는 클래스도 있고 평션도 있고.) \n",
        "\n",
        "그 속에 여러개의 펑션 중에 hist라는 펑션이 존재한다. \n",
        "\n",
        "어떻게 Hist만 뽑아서 불러와서 사용할 것인가 = import 또는 from ~ import ~를 사용. "
      ]
    }
  ]
}