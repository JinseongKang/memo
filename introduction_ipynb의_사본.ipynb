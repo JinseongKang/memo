{
  "nbformat": 4,
  "nbformat_minor": 0,
  "metadata": {
    "colab": {
      "name": "introduction.ipynb의 사본",
      "provenance": [],
      "include_colab_link": true
    },
    "kernelspec": {
      "name": "python3",
      "display_name": "Python 3"
    }
  },
  "cells": [
    {
      "cell_type": "markdown",
      "metadata": {
        "id": "view-in-github",
        "colab_type": "text"
      },
      "source": [
        "<a href=\"https://colab.research.google.com/github/JinseongKang/memo/blob/main/introduction_ipynb%EC%9D%98_%EC%82%AC%EB%B3%B8.ipynb\" target=\"_parent\"><img src=\"https://colab.research.google.com/assets/colab-badge.svg\" alt=\"Open In Colab\"/></a>"
      ]
    },
    {
      "cell_type": "markdown",
      "metadata": {
        "id": "qg4XK6W39TPs"
      },
      "source": [
        "# Today's keywords: jupyter notebook, markdown, colab, github, python\n",
        "오늘의 할일: notebook, chrome, gmail 계정, github 계정(ID), colab, chrome colab extension, jump to python\n",
        "\n",
        "## jupyter notebook\n",
        "Jupyter Notebook (formerly IPython Notebooks) is a web-based interactive computational environment for creating Jupyter notebook documents. A Jupyter Notebook document is a JSON document, following a versioned schema, containing an ordered list of input/output cells which can contain code, text (using Markdown), mathematics, plots and rich media, usually ending with the \".ipynb\" extension.\n",
        "\n",
        "## colaboratory\n",
        "[Colaboratory](https://colab.research.google.com/notebooks/intro.ipynb) (also known as Colab) is a free Jupyter notebook environment that runs in the cloud and stores its notebooks on Google Drive. Colab notebooks are Jupyter notebooks that are hosted by Colab. Colab has two types of cells: text and code. Text cells are formatted using a simple markup language called Markdown.\n",
        "\n",
        "## markdown\n",
        "Markdown is a lightweight markup language for creating formatted text using a plain-text editor. John Gruber and Aaron Swartz created Markdown in 2004 as a markup language that is appealing to human readers in its source code form. Markdown is widely used in blogging, instant messaging, online forums, collaborative software, documentation pages, and readme files.\n",
        "\n",
        "## github\n",
        "[GitHub](https://github.com/), Inc. is a provider of Internet hosting for software development and version control using Git.\n",
        "\n",
        "## python\n",
        "https://www.statista.com/statistics/793628/worldwide-developer-survey-most-used-languages/\n",
        "Python is an interpreted, high-level and general-purpose programming language. Python's design philosophy emphasizes code readability with its notable use of significant indentation. Its language constructs and object-oriented approach aim to help programmers write clear, logical code for small and large-scale projects.\n",
        "\n",
        "\n",
        "\n"
      ]
    },
    {
      "cell_type": "markdown",
      "metadata": {
        "id": "LkDFXplwkEne"
      },
      "source": [
        "총정리시간 \n",
        "\n",
        "colab같은 환경을 jupyter notebook이라고 한다.\n",
        "\n",
        "markdown은 코드가 아닌 부분을 작성할 수 있는 것. 텍스트도 작성할 수 있고 하는 기능.\n",
        "\n",
        "github은 코드를 비롯한 여러가지를 저장할 수 있는 곳. 우리는 colab과 연동하여 사용 중. "
      ]
    }
  ]
}