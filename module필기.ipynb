{
  "nbformat": 4,
  "nbformat_minor": 0,
  "metadata": {
    "colab": {
      "name": "module.ipynb",
      "provenance": [],
      "include_colab_link": true
    },
    "kernelspec": {
      "name": "python3",
      "display_name": "Python 3"
    },
    "language_info": {
      "name": "python"
    }
  },
  "cells": [
    {
      "cell_type": "markdown",
      "metadata": {
        "id": "view-in-github",
        "colab_type": "text"
      },
      "source": [
        "<a href=\"https://colab.research.google.com/github/JinseongKang/memo/blob/main/module%ED%95%84%EA%B8%B0.ipynb\" target=\"_parent\"><img src=\"https://colab.research.google.com/assets/colab-badge.svg\" alt=\"Open In Colab\"/></a>"
      ]
    },
    {
      "cell_type": "code",
      "metadata": {
        "id": "sU1MEIdt2UEc"
      },
      "source": [
        "class cal:\n",
        "  def __init__(self):\n",
        "    self.result = 0\n",
        "  def add(self, n):\n",
        "    self.result += n\n",
        "    return self.result"
      ],
      "execution_count": null,
      "outputs": []
    },
    {
      "cell_type": "markdown",
      "metadata": {
        "id": "b09SE8YybkdW"
      },
      "source": [
        "여기서 변수는 result임.\n",
        "\n",
        "2: class로 뭘 만들 때 처음으로 무조건 실행되는 것 : init \n",
        "\n",
        "\n",
        "3: self는 클래스가 만들어내는 자기 자신이라고 보면 됨. 자기 자신의 변수.\n",
        "\n",
        "self.reslut에 0 을 집어 넣어라. 여기까진 통으로 외워서 쓰는 게 편함\n",
        "\n",
        "5: 위에꺼 self.result에 n만큼 더해라. 여기서 self는 변수에 self를 집어넣으라는 게 아니라 , 그냥 자기 자신을 지칭하는 것)\n"
      ]
    },
    {
      "cell_type": "code",
      "metadata": {
        "colab": {
          "base_uri": "https://localhost:8080/"
        },
        "id": "Nxln4I48c2-e",
        "outputId": "fdae10b6-9b76-46f3-de78-9270b33eb5df"
      },
      "source": [
        "A = cal()\n",
        "A.result"
      ],
      "execution_count": null,
      "outputs": [
        {
          "output_type": "execute_result",
          "data": {
            "text/plain": [
              "0"
            ]
          },
          "metadata": {
            "tags": []
          },
          "execution_count": 4
        }
      ]
    },
    {
      "cell_type": "code",
      "metadata": {
        "colab": {
          "base_uri": "https://localhost:8080/"
        },
        "id": "sVMdZOVzdAkp",
        "outputId": "957f4538-702d-4f70-aee1-0d7e91de882e"
      },
      "source": [
        "A.add(4)\n",
        "A.result"
      ],
      "execution_count": null,
      "outputs": [
        {
          "output_type": "execute_result",
          "data": {
            "text/plain": [
              "4"
            ]
          },
          "metadata": {
            "tags": []
          },
          "execution_count": 5
        }
      ]
    },
    {
      "cell_type": "code",
      "metadata": {
        "id": "DK4vTA6T4NN0"
      },
      "source": [
        "def func(a, b, x):\n",
        "  y = a*x + b\n",
        "  return y"
      ],
      "execution_count": null,
      "outputs": []
    }
  ]
}