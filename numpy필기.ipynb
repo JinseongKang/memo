{
  "nbformat": 4,
  "nbformat_minor": 0,
  "metadata": {
    "kernelspec": {
      "display_name": "Python 3",
      "language": "python",
      "name": "python3"
    },
    "language_info": {
      "codemirror_mode": {
        "name": "ipython",
        "version": 3
      },
      "file_extension": ".py",
      "mimetype": "text/x-python",
      "name": "python",
      "nbconvert_exporter": "python",
      "pygments_lexer": "ipython3",
      "version": "3.7.1"
    },
    "colab": {
      "name": "numpy.ipynb의 필기",
      "provenance": [],
      "include_colab_link": true
    }
  },
  "cells": [
    {
      "cell_type": "markdown",
      "metadata": {
        "id": "view-in-github",
        "colab_type": "text"
      },
      "source": [
        "<a href=\"https://colab.research.google.com/github/JinseongKang/memo/blob/main/numpy%ED%95%84%EA%B8%B0.ipynb\" target=\"_parent\"><img src=\"https://colab.research.google.com/assets/colab-badge.svg\" alt=\"Open In Colab\"/></a>"
      ]
    },
    {
      "cell_type": "markdown",
      "metadata": {
        "id": "e-2S1OhwShA_"
      },
      "source": [
        "# NumPy basics"
      ]
    },
    {
      "cell_type": "markdown",
      "metadata": {
        "id": "japnNanbShBA"
      },
      "source": [
        "## 1. Creation"
      ]
    },
    {
      "cell_type": "code",
      "metadata": {
        "id": "5ap7xyofShBB"
      },
      "source": [
        "import numpy as np\n",
        "import matplotlib.pyplot as plt"
      ],
      "execution_count": null,
      "outputs": []
    },
    {
      "cell_type": "markdown",
      "metadata": {
        "id": "F6o_hQ4On4av"
      },
      "source": [
        "대표적인 패키지 중 하나가 numpy이다.  \n",
        "\n",
        "Numpy 안에 여러가지 func들이 있을 것이다.  \n",
        "\n",
        "넘피 안에 있는 sin()이라는 펑션을 쓰고 싶다? -> numpy.sin() \n",
        "\n",
        "as np가 있기 때문에 \n",
        "\n",
        "아래 코드에서 np.empty로 불러오기가 가능함.\n",
        "\n",
        "as np가 없으면 numpy.empty로 불러와야 함.\n",
        "\n",
        "/\n",
        "\n",
        "\n"
      ]
    },
    {
      "cell_type": "code",
      "metadata": {
        "id": "xJS2wUSzShBB",
        "colab": {
          "base_uri": "https://localhost:8080/"
        },
        "outputId": "f25925ab-1bb2-4e30-b61a-641015a5f6f9"
      },
      "source": [
        "np.empty([2,3], dtype='int')"
      ],
      "execution_count": null,
      "outputs": [
        {
          "output_type": "execute_result",
          "data": {
            "text/plain": [
              "array([[93906190768752,              0,              0],\n",
              "       [             0,              0,              0]])"
            ]
          },
          "metadata": {
            "tags": []
          },
          "execution_count": 2
        }
      ]
    },
    {
      "cell_type": "markdown",
      "metadata": {
        "id": "T8s4YdrRonNG"
      },
      "source": [
        "empty[2,3] => 2 X 3의 행렬을 만들어라.\n",
        "\n"
      ]
    },
    {
      "cell_type": "code",
      "metadata": {
        "id": "XKkV6Am7ShBB",
        "colab": {
          "base_uri": "https://localhost:8080/"
        },
        "outputId": "b71cd6d0-66ff-4a91-bbc3-d266c701e790"
      },
      "source": [
        "np.zeros([2,3])"
      ],
      "execution_count": null,
      "outputs": [
        {
          "output_type": "execute_result",
          "data": {
            "text/plain": [
              "array([[0., 0., 0.],\n",
              "       [0., 0., 0.]])"
            ]
          },
          "metadata": {
            "tags": []
          },
          "execution_count": 3
        }
      ]
    },
    {
      "cell_type": "code",
      "metadata": {
        "id": "EjC88C75ShBC",
        "outputId": "53d3d9dc-7f42-4f45-e0a6-2059df674aa9"
      },
      "source": [
        "np.arange(0,10,2, dtype='float64')"
      ],
      "execution_count": null,
      "outputs": [
        {
          "output_type": "execute_result",
          "data": {
            "text/plain": [
              "array([0., 2., 4., 6., 8.])"
            ]
          },
          "metadata": {
            "tags": []
          },
          "execution_count": 5
        }
      ]
    },
    {
      "cell_type": "markdown",
      "metadata": {
        "id": "nH2J9jbopdFq"
      },
      "source": [
        "arange라는 함수가 numpy 안에 있다. \n",
        "\n",
        "arange(0,10,2)는 0부터 10까지 2 간격으로 나열하되, 10은 제외하는 것."
      ]
    },
    {
      "cell_type": "code",
      "metadata": {
        "id": "-MwkCEjTShBC",
        "outputId": "b7abdade-1320-488c-e805-6a98cae8c125"
      },
      "source": [
        "np.linspace(0,10,6, dtype=float)"
      ],
      "execution_count": null,
      "outputs": [
        {
          "output_type": "execute_result",
          "data": {
            "text/plain": [
              "array([ 0.,  2.,  4.,  6.,  8., 10.])"
            ]
          },
          "metadata": {
            "tags": []
          },
          "execution_count": 6
        }
      ]
    },
    {
      "cell_type": "markdown",
      "metadata": {
        "id": "Ryx3MgesqUb7"
      },
      "source": [
        "linear space = 등간격\n",
        "\n",
        "0부터 10까지를 2라는 등간격을 둬서 나열하는데, 총 6개를 만들어라.\n",
        "\n",
        "arange와 달리 마지막 10도 포함.\n",
        "\n",
        "\n",
        "이러한 숫자열을 vector라고 함. \n",
        "\n",
        "[ 1 3 5\n",
        "\n",
        "  2 4 6 ] 은 2 X 3 (two by three) 행렬이라고 하는데, 이를 Vector라고 함. \n",
        "\n",
        "  벡터는 세로로 길쭉하거나, 가로로 길쭉하거나, 어떠한 형태를 띤 행렬의 일종이다.\n",
        "\n",
        "  시험문제에 행렬이 주어지고 이게 벡터냐? 하면 벡터라고 해야함.\n",
        "\n"
      ]
    },
    {
      "cell_type": "code",
      "metadata": {
        "id": "2rqpSPZCShBC",
        "outputId": "183fe1d0-6c67-4a64-ca21-1c5beb1f573c"
      },
      "source": [
        "X = np.array([[1,2,3],[4,5,6]])\n",
        "X"
      ],
      "execution_count": null,
      "outputs": [
        {
          "output_type": "execute_result",
          "data": {
            "text/plain": [
              "array([[1, 2, 3],\n",
              "       [4, 5, 6]])"
            ]
          },
          "metadata": {
            "tags": []
          },
          "execution_count": 7
        }
      ]
    },
    {
      "cell_type": "markdown",
      "metadata": {
        "id": "B1M4MRXmrW9A"
      },
      "source": [
        "array는 결과값처럼 병렬 형태의 행렬을 만들어낸다. \n",
        "\n",
        "2 X 3 행렬이 나오게 되는데, \n",
        "\n",
        "2 부분은 [?], [?] 이니까 2인 것. 즉 리스트 자체의 갯수\n",
        "\n",
        "3 부분은 [? , ? , ?] . 이니까 3인 것. 즉 하나의 리스트 안의 원소 갯수.\n",
        "\n",
        "어떤 부분으로 인해 몇곱하기 몇 행렬이 나오게 되는지 헷갈리지 말 것!"
      ]
    },
    {
      "cell_type": "code",
      "metadata": {
        "id": "2IZcYVgpShBD",
        "outputId": "7ec4bd94-98a8-4cb4-db23-9ff5aa701195"
      },
      "source": [
        "X.astype(np.float64)"
      ],
      "execution_count": null,
      "outputs": [
        {
          "output_type": "execute_result",
          "data": {
            "text/plain": [
              "array([[1., 2., 3.],\n",
              "       [4., 5., 6.]])"
            ]
          },
          "metadata": {
            "tags": []
          },
          "execution_count": 8
        }
      ]
    },
    {
      "cell_type": "markdown",
      "metadata": {
        "id": "2RkdrESPsZDm"
      },
      "source": [
        "int값처럼."
      ]
    },
    {
      "cell_type": "code",
      "metadata": {
        "id": "Xm5y2XPRShBD",
        "outputId": "bd479cad-6e00-4f8a-dabc-13303451fe8a"
      },
      "source": [
        "np.zeros_like(X)"
      ],
      "execution_count": null,
      "outputs": [
        {
          "output_type": "execute_result",
          "data": {
            "text/plain": [
              "array([[0, 0, 0],\n",
              "       [0, 0, 0]])"
            ]
          },
          "metadata": {
            "tags": []
          },
          "execution_count": 9
        }
      ]
    },
    {
      "cell_type": "markdown",
      "metadata": {
        "id": "0tVwpFL3sclh"
      },
      "source": [
        "모두 0으로 대체를 해라."
      ]
    },
    {
      "cell_type": "code",
      "metadata": {
        "id": "z1oOAB6dShBD",
        "colab": {
          "base_uri": "https://localhost:8080/",
          "height": 301
        },
        "outputId": "bced6f60-2f08-49aa-a742-71b4f81a91dc"
      },
      "source": [
        "data = np.random.normal(0,1, 10000)\n",
        "print(data)\n",
        "plt.hist(data, bins=100)\n",
        "plt.show()"
      ],
      "execution_count": 4,
      "outputs": [
        {
          "output_type": "stream",
          "text": [
            "[ 0.3826001  -0.05501209  0.39789368 ... -0.1994284  -1.89577757\n",
            " -0.46233094]\n"
          ],
          "name": "stdout"
        },
        {
          "output_type": "display_data",
          "data": {
            "image/png": "[encoded data removed]",
            "text/plain": [
              "<Figure size 432x288 with 1 Axes>"
            ]
          },
          "metadata": {
            "tags": [],
            "needs_background": "light"
          }
        }
      ]
    },
    {
      "cell_type": "markdown",
      "metadata": {
        "id": "3eYjUywfsqUP"
      },
      "source": [
        "normal을 불러와라.\n",
        "\n",
        "normal = normal distribution의 형태로 만들라는 뜻.\n",
        "\n",
        "normal (0, 1, 100) 의 뜻은? \n",
        "\n",
        "정규분포의 대략적인 중간 값을 0으로 하게 하고, \n",
        "\n",
        "그래프의 가로 폭을 1로 하고 ( 숫자를 키우면 뚱뚱해지고, 작게 하면 뾰족해짐)\n",
        "\n",
        "100개의 숫자를 나열해라.\n",
        "\n",
        "/\n",
        "\n",
        "hist = 히스토그램. 그래프를 그려주는 것. 이건 pyplot에서 불러와야 하고, 이건 위에서 plt라고 정의해두었으므로, plt로 불러올 수 있다.\n",
        "\n",
        "bins - 막대 그래프의 막대 갯수. 10이니까 10개의 막대로 표현됨.\n",
        "\n"
      ]
    },
    {
      "cell_type": "markdown",
      "metadata": {
        "id": "G0exvwBbShBE"
      },
      "source": [
        "## 2. Manipulation"
      ]
    },
    {
      "cell_type": "code",
      "metadata": {
        "id": "HgQmRXzMShBE",
        "outputId": "72cd172c-7d6e-4d31-e02f-5fff59b1a59f"
      },
      "source": [
        "X = np.ones([2, 3, 4])\n",
        "X"
      ],
      "execution_count": null,
      "outputs": [
        {
          "output_type": "execute_result",
          "data": {
            "text/plain": [
              "array([[[1., 1., 1., 1.],\n",
              "        [1., 1., 1., 1.],\n",
              "        [1., 1., 1., 1.]],\n",
              "\n",
              "       [[1., 1., 1., 1.],\n",
              "        [1., 1., 1., 1.],\n",
              "        [1., 1., 1., 1.]]])"
            ]
          },
          "metadata": {
            "tags": []
          },
          "execution_count": 11
        }
      ]
    },
    {
      "cell_type": "markdown",
      "metadata": {
        "id": "U9Pr9PqwvhL_"
      },
      "source": [
        "2차원 이상의 행렬.\n",
        "\n",
        "행렬: vertor < matrix < tensor 순으로 큰 개념.\n",
        "\n",
        "중첩된 리스트. 괄호 갯수에 주목할 것. 시작과 끝은 [[[ ]]] 이고, 중간에 하나의 행렬은 [[ ]] 인 것.\n",
        "\n",
        "/\n",
        "\n",
        "시험문제 예시 : 위와 같은 [2, 3, 4] 에서 1이 몇개? = 2X3X4 = 24개."
      ]
    },
    {
      "cell_type": "code",
      "metadata": {
        "id": "O-wDF4vEShBE",
        "outputId": "64d0bf8e-d25c-406f-d29f-c4316910e756"
      },
      "source": [
        "Y = X.reshape(-1, 3, 2)\n",
        "Y"
      ],
      "execution_count": null,
      "outputs": [
        {
          "output_type": "execute_result",
          "data": {
            "text/plain": [
              "array([[[1., 1.],\n",
              "        [1., 1.],\n",
              "        [1., 1.]],\n",
              "\n",
              "       [[1., 1.],\n",
              "        [1., 1.],\n",
              "        [1., 1.]],\n",
              "\n",
              "       [[1., 1.],\n",
              "        [1., 1.],\n",
              "        [1., 1.]],\n",
              "\n",
              "       [[1., 1.],\n",
              "        [1., 1.],\n",
              "        [1., 1.]]])"
            ]
          },
          "metadata": {
            "tags": []
          },
          "execution_count": 22
        }
      ]
    },
    {
      "cell_type": "markdown",
      "metadata": {
        "id": "axggqQNjwl3i"
      },
      "source": [
        "# Reshape 중요함!\n",
        "\n",
        "\n",
        "2 x 3 x 4 => -1, 3, 2 로 reshape 하라.\n",
        "\n",
        "X의 원소 갯수가 총 24개 였고, 3 x 2는 6이니까 총 4개의 행렬이 나와야 함.\n",
        "\n",
        "-1을 넣으면 계산 필요 없이 몇개의 행렬으로 될지 자동적으로 해주는 장치임."
      ]
    },
    {
      "cell_type": "markdown",
      "metadata": {
        "id": "sQbvagyYwj8L"
      },
      "source": [
        ""
      ]
    },
    {
      "cell_type": "code",
      "metadata": {
        "id": "f1QGwVduShBE",
        "outputId": "3386920c-f786-4767-da93-2c3b0dd676c8"
      },
      "source": [
        "np.allclose(X.reshape(-1, 3, 2), Y)"
      ],
      "execution_count": null,
      "outputs": [
        {
          "output_type": "execute_result",
          "data": {
            "text/plain": [
              "True"
            ]
          },
          "metadata": {
            "tags": []
          },
          "execution_count": 23
        }
      ]
    },
    {
      "cell_type": "code",
      "metadata": {
        "id": "_4QCUpttShBF"
      },
      "source": [
        "assert np.allclose(X.reshape(-1, 3, 2), Y)"
      ],
      "execution_count": null,
      "outputs": []
    },
    {
      "cell_type": "markdown",
      "metadata": {
        "id": "Hru2lI-tShBF"
      },
      "source": [
        "## 3. NumPy I/O"
      ]
    },
    {
      "cell_type": "code",
      "metadata": {
        "id": "msE1ANUYShBF"
      },
      "source": [
        "a = np.random.randint(0, 10, [2, 3])\n",
        "b = np.random.random([2, 3])\n",
        "np.savez(\"test\", a, b)"
      ],
      "execution_count": null,
      "outputs": []
    },
    {
      "cell_type": "code",
      "metadata": {
        "id": "3l0iXfmUShBF",
        "outputId": "5fe2bc07-8446-43fa-e88d-0aa9caf48856"
      },
      "source": [
        "!ls -al test*"
      ],
      "execution_count": null,
      "outputs": [
        {
          "output_type": "stream",
          "text": [
            "-rw-r--r--  1 jookai  staff     562 Apr  2 00:35 test.npz\n",
            "-rw-r--r--  1 jookai  staff  123438 Mar 14 23:19 test.wav\n"
          ],
          "name": "stdout"
        }
      ]
    },
    {
      "cell_type": "code",
      "metadata": {
        "id": "a5USScB1ShBF",
        "outputId": "1f399f57-6c91-471c-e359-f88ec0d2385e"
      },
      "source": [
        "del a, b\n",
        "%who  # Print all interactive variables"
      ],
      "execution_count": null,
      "outputs": [
        {
          "output_type": "stream",
          "text": [
            "No variables match your requested type.\n"
          ],
          "name": "stdout"
        }
      ]
    },
    {
      "cell_type": "code",
      "metadata": {
        "id": "mPlh78KvShBG",
        "outputId": "22dd7701-1fa8-4ee9-eab0-886a78976692"
      },
      "source": [
        "npzfiles = np.load(\"test.npz\")\n",
        "npzfiles.files"
      ],
      "execution_count": null,
      "outputs": [
        {
          "output_type": "execute_result",
          "data": {
            "text/plain": [
              "['arr_0', 'arr_1']"
            ]
          },
          "metadata": {
            "tags": []
          },
          "execution_count": 46
        }
      ]
    },
    {
      "cell_type": "code",
      "metadata": {
        "id": "b0zYFFipShBG",
        "outputId": "05f45053-f2db-4428-c4e5-04362a03cf87"
      },
      "source": [
        "npzfiles['arr_0']"
      ],
      "execution_count": null,
      "outputs": [
        {
          "output_type": "execute_result",
          "data": {
            "text/plain": [
              "array([[1, 5, 2],\n",
              "       [1, 7, 0]])"
            ]
          },
          "metadata": {
            "tags": []
          },
          "execution_count": 48
        }
      ]
    },
    {
      "cell_type": "code",
      "metadata": {
        "id": "ZsH2_VD0nPVC",
        "colab": {
          "resources": {
            "http://localhost:8080/nbextensions/google.colab/files.js": {
              "data": "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",
              "ok": true,
              "headers": [
                [
                  "content-type",
                  "application/javascript"
                ]
              ],
              "status": 200,
              "status_text": ""
            }
          },
          "base_uri": "https://localhost:8080/",
          "height": 72
        },
        "outputId": "25103c1d-77d8-43a6-c0ab-5f7b58dc5222"
      },
      "source": [
        "from google.colab import files\n",
        "uploaded = files.upload()\n",
        "data = np.loadtxt(\"regression.csv\", delimiter=\",\", skiprows=1, dtype={'names':(\"X\", \"Y\"), 'formats':('f', 'f')})\n",
        "data"
      ],
      "execution_count": null,
      "outputs": [
        {
          "output_type": "display_data",
          "data": {
            "text/html": [
              "\n",
              "     <input type=\"file\" id=\"files-6e9645f3-22bc-4a83-873e-4d164d770596\" name=\"files[]\" multiple disabled\n",
              "        style=\"border:none\" />\n",
              "     <output id=\"result-6e9645f3-22bc-4a83-873e-4d164d770596\">\n",
              "      Upload widget is only available when the cell has been executed in the\n",
              "      current browser session. Please rerun this cell to enable.\n",
              "      </output>\n",
              "      <script src=\"/nbextensions/google.colab/files.js\"></script> "
            ],
            "text/plain": [
              "<IPython.core.display.HTML object>"
            ]
          },
          "metadata": {
            "tags": []
          }
        },
        {
          "output_type": "stream",
          "text": [
            "Saving regression.csv to regression.csv\n"
          ],
          "name": "stdout"
        }
      ]
    },
    {
      "cell_type": "code",
      "metadata": {
        "id": "GK8AaKNMShBG",
        "colab": {
          "base_uri": "https://localhost:8080/"
        },
        "outputId": "04151736-7c39-4d17-fd8f-0f821bb33b1b"
      },
      "source": [
        "np.savetxt(\"regression_saved.csv\", data, delimiter=\",\")\n",
        "!ls -al regression_saved.csv"
      ],
      "execution_count": null,
      "outputs": [
        {
          "output_type": "stream",
          "text": [
            "-rw-r--r-- 1 root root 850 Mar 21 16:33 regression_saved.csv\n"
          ],
          "name": "stdout"
        }
      ]
    },
    {
      "cell_type": "markdown",
      "metadata": {
        "id": "OtRqlLUjShBH"
      },
      "source": [
        "## 4. Inspecting"
      ]
    },
    {
      "cell_type": "code",
      "metadata": {
        "id": "hCdNQ9LdShBH",
        "colab": {
          "base_uri": "https://localhost:8080/"
        },
        "outputId": "bd4582ef-cb36-406d-97d5-6bce82211288"
      },
      "source": [
        "arr = np.random.random([5,2,3])\n",
        "arr"
      ],
      "execution_count": 7,
      "outputs": [
        {
          "output_type": "execute_result",
          "data": {
            "text/plain": [
              "array([[[0.8731061 , 0.3177902 , 0.89300273],\n",
              "        [0.30337095, 0.01172384, 0.53302348]],\n",
              "\n",
              "       [[0.79922435, 0.32272746, 0.20004645],\n",
              "        [0.43681461, 0.95004081, 0.67573651]],\n",
              "\n",
              "       [[0.35910007, 0.59808944, 0.92628821],\n",
              "        [0.42340287, 0.88536429, 0.79337312]],\n",
              "\n",
              "       [[0.93400731, 0.2116126 , 0.52609999],\n",
              "        [0.3318715 , 0.46221909, 0.51018345]],\n",
              "\n",
              "       [[0.76463276, 0.83406556, 0.539574  ],\n",
              "        [0.40640559, 0.14361662, 0.02429571]]])"
            ]
          },
          "metadata": {
            "tags": []
          },
          "execution_count": 7
        }
      ]
    },
    {
      "cell_type": "markdown",
      "metadata": {
        "id": "TAeKYeGhy0-j"
      },
      "source": [
        "3차원의 array가 형성."
      ]
    },
    {
      "cell_type": "code",
      "metadata": {
        "id": "PrlTloJtShBH",
        "outputId": "8ce35193-4d18-464b-96d4-f98580925525"
      },
      "source": [
        "print(type(arr))\n",
        "print(len(arr))\n",
        "print(arr.shape)\n",
        "print(arr.ndim)\n",
        "print(arr.size)\n",
        "print(arr.dtype)"
      ],
      "execution_count": null,
      "outputs": [
        {
          "output_type": "stream",
          "text": [
            "<class 'numpy.ndarray'>\n",
            "5\n",
            "(5, 2, 3)\n",
            "3\n",
            "30\n",
            "float64\n"
          ],
          "name": "stdout"
        }
      ]
    },
    {
      "cell_type": "markdown",
      "metadata": {
        "id": "qfJms8xAy9l3"
      },
      "source": [
        "2. 이 array의 len은? = 5개. 대괄호 기준으로 생각하면 될듯.\n",
        "\n",
        "3. shape = 이 array의 구조는?\n",
        "\n",
        "4. ndim = 몇 차원이냐? = 3 차원. 쉽게 말해 몇 곱하기 몇은 2 차원, 몇곱하기몇곱하기몇은 3차원임.\n",
        "\n",
        "5. size\n"
      ]
    },
    {
      "cell_type": "markdown",
      "metadata": {
        "id": "ll__HZZAShBH"
      },
      "source": [
        "## 5. Operations"
      ]
    },
    {
      "cell_type": "markdown",
      "metadata": {
        "id": "v2r4x2usShBH"
      },
      "source": [
        "### 5.1 Arithmetic"
      ]
    },
    {
      "cell_type": "code",
      "metadata": {
        "id": "dD6wrlL2ShBH",
        "colab": {
          "base_uri": "https://localhost:8080/"
        },
        "outputId": "1e044e81-4d56-408a-8465-adf8c48fbea7"
      },
      "source": [
        "a = np.arange(1, 5)\n",
        "b = np.arange(9, 5, -1)\n",
        "print(a)\n",
        "print(b)"
      ],
      "execution_count": 16,
      "outputs": [
        {
          "output_type": "stream",
          "text": [
            "[1 2 3 4]\n",
            "[9 8 7 6]\n"
          ],
          "name": "stdout"
        }
      ]
    },
    {
      "cell_type": "markdown",
      "metadata": {
        "id": "sji9Qsg8z3L9"
      },
      "source": [
        "1. 1에서 5까지 1의 간격으로.\n",
        "2.  9에서 5 직전까지 -1만큼의 간격으로\n",
        "\n"
      ]
    },
    {
      "cell_type": "code",
      "metadata": {
        "id": "bD5zmaaiShBI",
        "colab": {
          "base_uri": "https://localhost:8080/"
        },
        "outputId": "894b133a-b125-4ba8-a6f1-0a8c764c7b98"
      },
      "source": [
        "print(a - b)\n",
        "print(a * b)\n"
      ],
      "execution_count": 17,
      "outputs": [
        {
          "output_type": "stream",
          "text": [
            "[-8 -6 -4 -2]\n",
            "[ 9 16 21 24]\n"
          ],
          "name": "stdout"
        }
      ]
    },
    {
      "cell_type": "markdown",
      "metadata": {
        "id": "1KGo9K3W0U3J"
      },
      "source": [
        "행렬의 곱: 2x3 X 3x2 = 2x2 가 됨.\n",
        "\n",
        "여긴 1x4 X 1x4 라서 곱셈이 불가능함\n",
        "\n",
        "결과값은 행렬의 형태를 띠고는 있지만 진짜 행렬은 아닌 것."
      ]
    },
    {
      "cell_type": "code",
      "metadata": {
        "id": "XqG8AA4oShBI"
      },
      "source": [
        "a = np.matrix(a)\n",
        "b = np.matrix(b)"
      ],
      "execution_count": 18,
      "outputs": []
    },
    {
      "cell_type": "markdown",
      "metadata": {
        "id": "MMh--NYA0-9Z"
      },
      "source": [
        "위의 가짜행렬을 진짜 행렬로 만들어주는 matrix 명령!"
      ]
    },
    {
      "cell_type": "code",
      "metadata": {
        "id": "uqCAC4oYShBI",
        "colab": {
          "base_uri": "https://localhost:8080/"
        },
        "outputId": "1d12c43d-8531-4ccc-d05a-fd48d4b4e678"
      },
      "source": [
        "a * b.T"
      ],
      "execution_count": 19,
      "outputs": [
        {
          "output_type": "execute_result",
          "data": {
            "text/plain": [
              "matrix([[70]])"
            ]
          },
          "metadata": {
            "tags": []
          },
          "execution_count": 19
        }
      ]
    },
    {
      "cell_type": "markdown",
      "metadata": {
        "id": "N7Elxl9d1F53"
      },
      "source": [
        "T = 트랜스포즈.   \n",
        "\n",
        "1x4 행렬에 T를 붙이면 거꾸로된 형태인 4x1과 곱해서 1x1이 됨.\n",
        "\n",
        "결과는 1x1인 70이 나옴. 왜 70이냐?\n",
        "\n",
        "[1,2,3,4]    \n",
        "\n",
        "[9,\n",
        "\n",
        "8,\n",
        "\n",
        "7,\n",
        "\n",
        "6] \n",
        "\n",
        "이 둘을 곱해서, 9x1 + 2x8 + 3x7 + 4x6 = 70이 나온다."
      ]
    },
    {
      "cell_type": "code",
      "metadata": {
        "id": "OwW-TYQ1ShBI",
        "outputId": "0c4d8e44-cd3b-419c-ddbe-b583ac1ab00a"
      },
      "source": [
        "a.T * b"
      ],
      "execution_count": null,
      "outputs": [
        {
          "output_type": "execute_result",
          "data": {
            "text/plain": [
              "matrix([[ 9,  8,  7,  6],\n",
              "        [18, 16, 14, 12],\n",
              "        [27, 24, 21, 18],\n",
              "        [36, 32, 28, 24]])"
            ]
          },
          "metadata": {
            "tags": []
          },
          "execution_count": 59
        }
      ]
    },
    {
      "cell_type": "markdown",
      "metadata": {
        "id": "nIzwheicShBI"
      },
      "source": [
        "### 5.2 Comparison"
      ]
    },
    {
      "cell_type": "code",
      "metadata": {
        "id": "avEnIBt6ShBI",
        "outputId": "172f14b2-40d5-45b1-f7c7-5ac268df0f1a"
      },
      "source": [
        "a = np.arange(1, 10).reshape(3,3)\n",
        "b = np.arange(9, 0, -1).reshape(3,3)\n",
        "print(a)\n",
        "print(b)"
      ],
      "execution_count": null,
      "outputs": [
        {
          "output_type": "stream",
          "text": [
            "[[1 2 3]\n",
            " [4 5 6]\n",
            " [7 8 9]]\n",
            "[[9 8 7]\n",
            " [6 5 4]\n",
            " [3 2 1]]\n"
          ],
          "name": "stdout"
        }
      ]
    },
    {
      "cell_type": "code",
      "metadata": {
        "id": "R2wtow0tShBJ",
        "outputId": "5ff6d843-8929-4c31-86dd-eb3cdbd59d23"
      },
      "source": [
        "a == b"
      ],
      "execution_count": null,
      "outputs": [
        {
          "output_type": "execute_result",
          "data": {
            "text/plain": [
              "array([[False, False, False],\n",
              "       [False,  True, False],\n",
              "       [False, False, False]])"
            ]
          },
          "metadata": {
            "tags": []
          },
          "execution_count": 65
        }
      ]
    },
    {
      "cell_type": "markdown",
      "metadata": {
        "id": "hMUxzXSS1y4-"
      },
      "source": [
        "a와 b를 비교했을 때, 같은 원소는 true 다르면 false 출력."
      ]
    },
    {
      "cell_type": "code",
      "metadata": {
        "id": "M74Vdg5xShBJ",
        "outputId": "552bd724-2d0d-48af-fc05-85d5e8b8990b"
      },
      "source": [
        "a > b"
      ],
      "execution_count": null,
      "outputs": [
        {
          "output_type": "execute_result",
          "data": {
            "text/plain": [
              "array([[False, False, False],\n",
              "       [False, False,  True],\n",
              "       [ True,  True,  True]])"
            ]
          },
          "metadata": {
            "tags": []
          },
          "execution_count": 66
        }
      ]
    },
    {
      "cell_type": "markdown",
      "metadata": {
        "id": "8mA86qfpShBJ"
      },
      "source": [
        "### 5.3 Aggregate (sum, min, max, mean, median, std)"
      ]
    },
    {
      "cell_type": "code",
      "metadata": {
        "id": "SkhVvDeiShBJ",
        "outputId": "632b5a13-c54d-4f09-f593-71b07faad9a6"
      },
      "source": [
        "a.sum(), np.sum(a)"
      ],
      "execution_count": null,
      "outputs": [
        {
          "output_type": "execute_result",
          "data": {
            "text/plain": [
              "(45, 45)"
            ]
          },
          "metadata": {
            "tags": []
          },
          "execution_count": 67
        }
      ]
    },
    {
      "cell_type": "markdown",
      "metadata": {
        "id": "8fKcR6bj2G5U"
      },
      "source": [
        "다 더해라."
      ]
    },
    {
      "cell_type": "code",
      "metadata": {
        "id": "95jUB6qWShBJ",
        "outputId": "1c8f052a-7dc6-4e77-fdd6-2e67345ee528"
      },
      "source": [
        "a.sum(axis=0), np.sum(a, axis=0)"
      ],
      "execution_count": null,
      "outputs": [
        {
          "output_type": "execute_result",
          "data": {
            "text/plain": [
              "(array([12, 15, 18]), array([12, 15, 18]))"
            ]
          },
          "metadata": {
            "tags": []
          },
          "execution_count": 68
        }
      ]
    },
    {
      "cell_type": "markdown",
      "metadata": {
        "id": "Uo9nkVok2Imp"
      },
      "source": [
        "a를 sum을 하되, axis=0, 세로축으로 더해라.\n",
        "\n",
        "axis=1이면 가로축으로 더해라."
      ]
    },
    {
      "cell_type": "code",
      "metadata": {
        "id": "PP93kmgEShBK",
        "outputId": "44d26647-cf70-48fa-8743-f8c5fe3d879a"
      },
      "source": [
        "a.sum(axis=1), np.sum(a, axis=1)"
      ],
      "execution_count": null,
      "outputs": [
        {
          "output_type": "execute_result",
          "data": {
            "text/plain": [
              "(array([ 6, 15, 24]), array([ 6, 15, 24]))"
            ]
          },
          "metadata": {
            "tags": []
          },
          "execution_count": 69
        }
      ]
    },
    {
      "cell_type": "markdown",
      "metadata": {
        "id": "HRSOB-BRShBK"
      },
      "source": [
        "## Broadcasting"
      ]
    },
    {
      "cell_type": "code",
      "metadata": {
        "id": "2g-SnKKoShBK",
        "outputId": "9dcad363-a0aa-49e1-e742-ece9ffead23e"
      },
      "source": [
        "a = np.arange(1, 25).reshape(4, 6)\n",
        "a"
      ],
      "execution_count": null,
      "outputs": [
        {
          "output_type": "execute_result",
          "data": {
            "text/plain": [
              "array([[ 1,  2,  3,  4,  5,  6],\n",
              "       [ 7,  8,  9, 10, 11, 12],\n",
              "       [13, 14, 15, 16, 17, 18],\n",
              "       [19, 20, 21, 22, 23, 24]])"
            ]
          },
          "metadata": {
            "tags": []
          },
          "execution_count": 70
        }
      ]
    },
    {
      "cell_type": "code",
      "metadata": {
        "id": "JI8Ge4tMShBK",
        "outputId": "2e36f9a4-9163-4935-c14c-0de11babea1d"
      },
      "source": [
        "a + 100"
      ],
      "execution_count": null,
      "outputs": [
        {
          "output_type": "execute_result",
          "data": {
            "text/plain": [
              "array([[101, 102, 103, 104, 105, 106],\n",
              "       [107, 108, 109, 110, 111, 112],\n",
              "       [113, 114, 115, 116, 117, 118],\n",
              "       [119, 120, 121, 122, 123, 124]])"
            ]
          },
          "metadata": {
            "tags": []
          },
          "execution_count": 71
        }
      ]
    },
    {
      "cell_type": "code",
      "metadata": {
        "id": "pv5IB9_5ShBK",
        "outputId": "673c43cf-923c-41b5-ca1e-c07d65d03157"
      },
      "source": [
        "b = np.arange(6)\n",
        "b"
      ],
      "execution_count": null,
      "outputs": [
        {
          "output_type": "execute_result",
          "data": {
            "text/plain": [
              "array([0, 1, 2, 3, 4, 5])"
            ]
          },
          "metadata": {
            "tags": []
          },
          "execution_count": 72
        }
      ]
    },
    {
      "cell_type": "code",
      "metadata": {
        "id": "kGBax9WIShBL",
        "outputId": "004b37b7-44b5-4adc-a32a-96df51492311"
      },
      "source": [
        "a + b"
      ],
      "execution_count": null,
      "outputs": [
        {
          "output_type": "execute_result",
          "data": {
            "text/plain": [
              "array([[ 1,  3,  5,  7,  9, 11],\n",
              "       [ 7,  9, 11, 13, 15, 17],\n",
              "       [13, 15, 17, 19, 21, 23],\n",
              "       [19, 21, 23, 25, 27, 29]])"
            ]
          },
          "metadata": {
            "tags": []
          },
          "execution_count": 73
        }
      ]
    },
    {
      "cell_type": "code",
      "metadata": {
        "id": "3Od9qiz5ShBL",
        "outputId": "8606cf8e-55cc-41b3-dbb4-fa7b053cd260"
      },
      "source": [
        "c = np.arange(4).reshape([4,1])\n",
        "c"
      ],
      "execution_count": null,
      "outputs": [
        {
          "output_type": "execute_result",
          "data": {
            "text/plain": [
              "array([[0],\n",
              "       [1],\n",
              "       [2],\n",
              "       [3]])"
            ]
          },
          "metadata": {
            "tags": []
          },
          "execution_count": 74
        }
      ]
    },
    {
      "cell_type": "code",
      "metadata": {
        "id": "qd2_qAtKShBL",
        "outputId": "f7d936a4-3975-4fdc-803e-fec24b24925b"
      },
      "source": [
        "a + c"
      ],
      "execution_count": null,
      "outputs": [
        {
          "output_type": "execute_result",
          "data": {
            "text/plain": [
              "array([[ 1,  2,  3,  4,  5,  6],\n",
              "       [ 8,  9, 10, 11, 12, 13],\n",
              "       [15, 16, 17, 18, 19, 20],\n",
              "       [22, 23, 24, 25, 26, 27]])"
            ]
          },
          "metadata": {
            "tags": []
          },
          "execution_count": 75
        }
      ]
    }
  ]
}