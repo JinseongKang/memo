{
  "nbformat": 4,
  "nbformat_minor": 0,
  "metadata": {
    "kernelspec": {
      "display_name": "Python 3",
      "language": "python",
      "name": "python3"
    },
    "language_info": {
      "codemirror_mode": {
        "name": "ipython",
        "version": 3
      },
      "file_extension": ".py",
      "mimetype": "text/x-python",
      "name": "python",
      "nbconvert_exporter": "python",
      "pygments_lexer": "ipython3",
      "version": "3.7.1"
    },
    "colab": {
      "name": "string.ipynb의 사본",
      "provenance": [],
      "include_colab_link": true
    }
  },
  "cells": [
    {
      "cell_type": "markdown",
      "metadata": {
        "id": "view-in-github",
        "colab_type": "text"
      },
      "source": [
        "<a href=\"https://colab.research.google.com/github/JinseongKang/memo/blob/main/string.ipynb\" target=\"_parent\"><img src=\"https://colab.research.google.com/assets/colab-badge.svg\" alt=\"Open In Colab\"/></a>"
      ]
    },
    {
      "cell_type": "code",
      "metadata": {
        "id": "q3rAOE-wurKY",
        "colab": {
          "base_uri": "https://localhost:8080/"
        },
        "outputId": "ca2adebf-3f1a-4806-b82e-4e6b776a7f0f"
      },
      "source": [
        "s = 'jinseong'\n",
        "print(s[0], s[5], s[-1], s[-6])\n",
        "print(s[1:3], s[1:], s[:3], s[:])"
      ],
      "execution_count": null,
      "outputs": [
        {
          "output_type": "stream",
          "text": [
            "j o g n\n",
            "in inseong jin jinseong\n"
          ],
          "name": "stdout"
        }
      ]
    },
    {
      "cell_type": "markdown",
      "metadata": {
        "id": "NVyFLTHVg8dA"
      },
      "source": [
        "리스트랑 비슷한 string의 원리. 체크."
      ]
    },
    {
      "cell_type": "code",
      "metadata": {
        "id": "6gW7LcAjurKe",
        "colab": {
          "base_uri": "https://localhost:8080/"
        },
        "outputId": "1773a617-de93-417f-f008-c62c473e64fe"
      },
      "source": [
        "n = ['i', 'am', 'jin']\n",
        "print(n[0], n[2], n[-1], n[-3])\n",
        "print(n[1:2], n[1:], n[:2], n[:])"
      ],
      "execution_count": null,
      "outputs": [
        {
          "output_type": "stream",
          "text": [
            "i jin jin i\n",
            "['am'] ['am', 'jin'] ['i', 'am'] ['i', 'am', 'jin']\n"
          ],
          "name": "stdout"
        }
      ]
    },
    {
      "cell_type": "code",
      "metadata": {
        "id": "yhH3dnJJurKf",
        "colab": {
          "base_uri": "https://localhost:8080/"
        },
        "outputId": "b32be15e-f9e9-4703-c1be-579174ed658a"
      },
      "source": [
        "len(s)"
      ],
      "execution_count": null,
      "outputs": [
        {
          "output_type": "execute_result",
          "data": {
            "text/plain": [
              "8"
            ]
          },
          "metadata": {
            "tags": []
          },
          "execution_count": 3
        }
      ]
    },
    {
      "cell_type": "markdown",
      "metadata": {
        "id": "ql8EnBHhYsiT"
      },
      "source": [
        "Len은 길이를 출력함. Length. \n",
        "\n",
        "리스트의 경우 구성 요소의 갯수를 출력함.  "
      ]
    },
    {
      "cell_type": "code",
      "metadata": {
        "id": "CuIxLEgWurKf",
        "colab": {
          "base_uri": "https://localhost:8080/",
          "height": 35
        },
        "outputId": "e62e98a9-d6e4-4792-9858-c0e0e2b78685"
      },
      "source": [
        "s[0]+s[4]*2+s[6]+s[3]+s[5]*2+s[6:]"
      ],
      "execution_count": null,
      "outputs": [
        {
          "output_type": "execute_result",
          "data": {
            "application/vnd.google.colaboratory.intrinsic+json": {
              "type": "string"
            },
            "text/plain": [
              "'jeensoong'"
            ]
          },
          "metadata": {
            "tags": []
          },
          "execution_count": 6
        }
      ]
    },
    {
      "cell_type": "markdown",
      "metadata": {
        "id": "Q-9TuEdKg6lX"
      },
      "source": [
        "결합하는 것 체크."
      ]
    },
    {
      "cell_type": "code",
      "metadata": {
        "id": "B-4Qj7h5urKg",
        "colab": {
          "base_uri": "https://localhost:8080/",
          "height": 35
        },
        "outputId": "a11cdb7b-6d23-4037-b9f0-9575d46c0ef3"
      },
      "source": [
        "s.upper(); s.lower(); s.upper()"
      ],
      "execution_count": null,
      "outputs": [
        {
          "output_type": "execute_result",
          "data": {
            "application/vnd.google.colaboratory.intrinsic+json": {
              "type": "string"
            },
            "text/plain": [
              "'JINSEONG'"
            ]
          },
          "metadata": {
            "tags": []
          },
          "execution_count": 8
        }
      ]
    },
    {
      "cell_type": "markdown",
      "metadata": {
        "id": "mC6JgbWZYpvM"
      },
      "source": [
        "Upper: 대문자로 바꾸라. \n",
        "\n",
        "\n",
        "Lower: 소문자로 바꾸라. \n",
        "\n",
        "체크"
      ]
    },
    {
      "cell_type": "code",
      "metadata": {
        "id": "NH4kiUqBurKg",
        "colab": {
          "base_uri": "https://localhost:8080/",
          "height": 35
        },
        "outputId": "4f69f04e-7440-492e-9070-23f497263ea0"
      },
      "source": [
        "s = ' i am a cool guy. ' \t\n",
        "s"
      ],
      "execution_count": 8,
      "outputs": [
        {
          "output_type": "execute_result",
          "data": {
            "application/vnd.google.colaboratory.intrinsic+json": {
              "type": "string"
            },
            "text/plain": [
              "' i am a cool guy. '"
            ]
          },
          "metadata": {
            "tags": []
          },
          "execution_count": 8
        }
      ]
    },
    {
      "cell_type": "code",
      "metadata": {
        "id": "fLQKJxqgurKg",
        "colab": {
          "base_uri": "https://localhost:8080/"
        },
        "outputId": "401bbeaf-2912-41c5-ca7b-7bae13d1b2ab"
      },
      "source": [
        "result = s.find('o') \t    # index of first instance of string t inside s (-1 if not found)\n",
        "result"
      ],
      "execution_count": 9,
      "outputs": [
        {
          "output_type": "execute_result",
          "data": {
            "text/plain": [
              "9"
            ]
          },
          "metadata": {
            "tags": []
          },
          "execution_count": 9
        }
      ]
    },
    {
      "cell_type": "markdown",
      "metadata": {
        "id": "yOVAbPOgYmmO"
      },
      "source": [
        "s.find(‘house’) -> house가 몇번쨰에 나오는지 출력하는 것. \n",
        "\n",
        "11번째 글자에 나오므로 11이 출력된다. \n",
        "\n",
        "\n",
        "\n",
        "만약 찾는 값이 문장 안에 없으면 -1이 출력된다 \n",
        "\n",
        "체크."
      ]
    },
    {
      "cell_type": "code",
      "metadata": {
        "id": "q8gAMAnFurKh",
        "colab": {
          "base_uri": "https://localhost:8080/"
        },
        "outputId": "280abd67-6e26-4a18-83b1-b2f8bf540a8d"
      },
      "source": [
        "result = s.find('cool')\t    # index of last instance of string t inside s (-1 if not found)\n",
        "result"
      ],
      "execution_count": null,
      "outputs": [
        {
          "output_type": "execute_result",
          "data": {
            "text/plain": [
              "8"
            ]
          },
          "metadata": {
            "tags": []
          },
          "execution_count": 12
        }
      ]
    },
    {
      "cell_type": "markdown",
      "metadata": {
        "id": "ej8h_sYeMuvl"
      },
      "source": [
        "찾는 값이 없으면 -1"
      ]
    },
    {
      "cell_type": "code",
      "metadata": {
        "id": "hEP3BGLIurKh",
        "colab": {
          "base_uri": "https://localhost:8080/"
        },
        "outputId": "d55ff18d-e457-49d2-c6fa-01038b5968be"
      },
      "source": [
        "result = s.rindex('am')        # like s.find(t) except it raises ValueError if not found\n",
        "result"
      ],
      "execution_count": null,
      "outputs": [
        {
          "output_type": "execute_result",
          "data": {
            "text/plain": [
              "3"
            ]
          },
          "metadata": {
            "tags": []
          },
          "execution_count": 13
        }
      ]
    },
    {
      "cell_type": "markdown",
      "metadata": {
        "id": "NN0IqjqdhISN"
      },
      "source": [
        "체크\n",
        "\n",
        "찾는 값이 없으면 ValueError!!!"
      ]
    },
    {
      "cell_type": "code",
      "metadata": {
        "id": "CpFnxuosurKh",
        "colab": {
          "base_uri": "https://localhost:8080/",
          "height": 35
        },
        "outputId": "41dbf231-d240-4cad-b332-d8ab1ba7b79a"
      },
      "source": [
        "s = s.strip()      \t            # a copy of s without leading or trailing whitespace\n",
        "s"
      ],
      "execution_count": 10,
      "outputs": [
        {
          "output_type": "execute_result",
          "data": {
            "application/vnd.google.colaboratory.intrinsic+json": {
              "type": "string"
            },
            "text/plain": [
              "'i am a cool guy.'"
            ]
          },
          "metadata": {
            "tags": []
          },
          "execution_count": 10
        }
      ]
    },
    {
      "cell_type": "markdown",
      "metadata": {
        "id": "fyeirhIaYXgs"
      },
      "source": [
        "Strip() -> 벗기다. 맨앞, 맨뒤에 지저분한 것들을 없애는 것.  \n",
        "\n",
        "공백, 역슬래쉬가 사라짐 \\\n",
        "\n",
        "체크"
      ]
    },
    {
      "cell_type": "code",
      "metadata": {
        "id": "2upnpA4aurKi",
        "colab": {
          "base_uri": "https://localhost:8080/"
        },
        "outputId": "41530f4f-0925-4e5e-dc24-851f0c20cc5a"
      },
      "source": [
        "tokens = s.split(' ')\t        # split s into a list wherever a t is found (whitespace by default)\n",
        "tokens"
      ],
      "execution_count": 16,
      "outputs": [
        {
          "output_type": "execute_result",
          "data": {
            "text/plain": [
              "['i', 'am', 'a', 'cool', 'guy.']"
            ]
          },
          "metadata": {
            "tags": []
          },
          "execution_count": 16
        }
      ]
    },
    {
      "cell_type": "markdown",
      "metadata": {
        "id": "AEKE7droYY_n"
      },
      "source": [
        "Split: 쪼개서 리스트로 만드는 것. \n",
        "\n",
        "Split(‘ ‘) -> 공백 단위로 split하면 공백 단위로 쪼개는 거니까, 단어 단위로 쪼개져서 리스트로 만들어짐. \n",
        "\n",
        "+) 4/12 체크. - 아주 중요함. \n",
        "\n",
        "문장을 token으로 쪼개는 것. tokenize하는 것. 괄호안에 입력한 값을 띄어쓰기 단위로 쪼개라. "
      ]
    },
    {
      "cell_type": "code",
      "metadata": {
        "id": "HIUkcuqaurKi",
        "colab": {
          "base_uri": "https://localhost:8080/",
          "height": 35
        },
        "outputId": "d8a9f76f-7c7f-4821-d58d-055026ba27d8"
      },
      "source": [
        "s = \" \".join(tokens)\t        # combine the words of the text into a string using s as the glue\n",
        "s"
      ],
      "execution_count": 17,
      "outputs": [
        {
          "output_type": "execute_result",
          "data": {
            "application/vnd.google.colaboratory.intrinsic+json": {
              "type": "string"
            },
            "text/plain": [
              "'i am a cool guy.'"
            ]
          },
          "metadata": {
            "tags": []
          },
          "execution_count": 17
        }
      ]
    },
    {
      "cell_type": "markdown",
      "metadata": {
        "id": "pYmLR7w1YcVy"
      },
      "source": [
        "Join - 풀칠을 하라. \n",
        "\n",
        "Split한 걸 다시 문장으로 붙임. \n",
        "\n",
        "체크."
      ]
    },
    {
      "cell_type": "code",
      "metadata": {
        "id": "NZC37X6eurKi",
        "colab": {
          "base_uri": "https://localhost:8080/",
          "height": 35
        },
        "outputId": "d1c545d2-2daf-4322-f5e3-87b63f8a1514"
      },
      "source": [
        "s = s.replace('i am', 'you are')   # replace instances of t with u inside s\n",
        "s"
      ],
      "execution_count": null,
      "outputs": [
        {
          "output_type": "execute_result",
          "data": {
            "application/vnd.google.colaboratory.intrinsic+json": {
              "type": "string"
            },
            "text/plain": [
              "'you are a cool guy.'"
            ]
          },
          "metadata": {
            "tags": []
          },
          "execution_count": 17
        }
      ]
    },
    {
      "cell_type": "markdown",
      "metadata": {
        "id": "InZSmLXlYe6T"
      },
      "source": [
        "요소를 대치하는 것. 앞에 거를 뒤에 거로."
      ]
    }
  ]
}