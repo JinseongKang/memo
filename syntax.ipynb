{
  "nbformat": 4,
  "nbformat_minor": 0,
  "metadata": {
    "kernelspec": {
      "display_name": "Python 3",
      "language": "python",
      "name": "python3"
    },
    "language_info": {
      "codemirror_mode": {
        "name": "ipython",
        "version": 3
      },
      "file_extension": ".py",
      "mimetype": "text/x-python",
      "name": "python",
      "nbconvert_exporter": "python",
      "pygments_lexer": "ipython3",
      "version": "3.7.1"
    },
    "colab": {
      "name": "syntax.ipynb의 사본",
      "provenance": [],
      "include_colab_link": true
    }
  },
  "cells": [
    {
      "cell_type": "markdown",
      "metadata": {
        "id": "view-in-github",
        "colab_type": "text"
      },
      "source": [
        "<a href=\"https://colab.research.google.com/github/JinseongKang/memo/blob/main/syntax.ipynb\" target=\"_parent\"><img src=\"https://colab.research.google.com/assets/colab-badge.svg\" alt=\"Open In Colab\"/></a>"
      ]
    },
    {
      "cell_type": "code",
      "metadata": {
        "id": "Fu2mzgrqSLAU",
        "colab": {
          "base_uri": "https://localhost:8080/"
        },
        "outputId": "7337760d-8199-4f20-e675-8160330a0f69"
      },
      "source": [
        "a = [1, 2, 3, 4]\n",
        "for y in a:\n",
        "    print(y)"
      ],
      "execution_count": null,
      "outputs": [
        {
          "output_type": "stream",
          "text": [
            "1\n",
            "2\n",
            "3\n",
            "4\n"
          ],
          "name": "stdout"
        }
      ]
    },
    {
      "cell_type": "markdown",
      "metadata": {
        "id": "GXee_CU8QcUM"
      },
      "source": [
        "for 변수 in list \n",
        "\n",
        "리스트나 튜플, 문자열의 첫 번째 요소부터 마지막 요소까지 차례로 변수에 대입되는 것"
      ]
    },
    {
      "cell_type": "markdown",
      "metadata": {
        "id": "E8PENgDxikRQ"
      },
      "source": [
        "체크 - for 이용한 거 다 복습해보기!!"
      ]
    },
    {
      "cell_type": "code",
      "metadata": {
        "id": "XSJxLJVCSLAW",
        "outputId": "921b10b7-3bc8-4345-a6b2-16253a900c95"
      },
      "source": [
        "a = [1, 2, 3, 4]\n",
        "for i in range(len(a)):\n",
        "    print(a[i])"
      ],
      "execution_count": null,
      "outputs": [
        {
          "output_type": "stream",
          "text": [
            "1\n",
            "2\n",
            "3\n",
            "4\n"
          ],
          "name": "stdout"
        }
      ]
    },
    {
      "cell_type": "markdown",
      "metadata": {
        "id": "c-tXvdHFnNET"
      },
      "source": [
        "range(len(a))는 range(4) 랑 똑같음\n",
        "\n",
        "range(4)면 in [0,1,2,3] 이게 들어간거랑 같은 개념임. -> 0부터 4이전까지 출력해라,라는 뜻\n",
        "\n",
        "a[0], a[1], a[2], a[3]이 출력될것임\n",
        "\n",
        "1, 2, 3, 4 가 출력되는 것임.\n",
        "\n",
        "\n",
        "# <응용> range에 숫자 두 개가 들어갈 경우.\n",
        "\n",
        "여기서, 0부터4가 아니라 1부터 3까지 하고싶다 -> range(1,4) 라고 하면 됨!\n",
        "\n",
        "a[1], a[2], a[3] 이 출력\n",
        "\n",
        "so 2, 3, 4가 출력될것임.\n",
        "\n",
        "만약 range(1,5)라고 한다면 에러가 나올 것임! - a[5]가 존재하지 않기 때문!\n",
        "\n",
        "# <응용2> - range에 숫자 세 개가 들어갈 경우.\n",
        "\n",
        "range(0, 4, 2) 라고 한다면 -> 0부터 4이전까지 2칸씩 띄어서 출력을 하라! \n",
        "\n",
        "so, 1, 3이 출력될 것임.\n",
        "\n",
        "\n"
      ]
    },
    {
      "cell_type": "code",
      "metadata": {
        "id": "VTfxVRdgSLAW",
        "colab": {
          "base_uri": "https://localhost:8080/"
        },
        "outputId": "875bf0a6-7e2e-4d5a-cf10-e1033234bcfb"
      },
      "source": [
        "a = ['kang', 'jin', 'seong', 'zzang']\n",
        "for i in a:\n",
        "    print(i)"
      ],
      "execution_count": null,
      "outputs": [
        {
          "output_type": "stream",
          "text": [
            "kang\n",
            "jin\n",
            "seong\n",
            "zzang\n"
          ],
          "name": "stdout"
        }
      ]
    },
    {
      "cell_type": "code",
      "metadata": {
        "id": "Vc-7pW85SLAW",
        "colab": {
          "base_uri": "https://localhost:8080/"
        },
        "outputId": "fe8e0f02-9df8-4b1f-cd64-d8f030b08bf4"
      },
      "source": [
        "a = ['kang', 'jin', 'seong', 'zzang']\n",
        "for i in range(len(a)):\n",
        "    print(a[i])"
      ],
      "execution_count": null,
      "outputs": [
        {
          "output_type": "stream",
          "text": [
            "kang\n",
            "jin\n",
            "seong\n",
            "zzang\n"
          ],
          "name": "stdout"
        }
      ]
    },
    {
      "cell_type": "code",
      "metadata": {
        "id": "XOdMzcWsSLAX",
        "outputId": "c9c342e6-cdd1-4e53-cdac-6aa00cfd0892"
      },
      "source": [
        "a = [\"red\", \"green\", \"blue\", \"purple\"]\n",
        "b = [0.2, 0.3, 0.1, 0.4]\n",
        "for i, a_ in enumerate(a):\n",
        "    print(\"{}: {}%\".format(a_, b[i]*100))"
      ],
      "execution_count": null,
      "outputs": [
        {
          "output_type": "stream",
          "text": [
            "red: 20.0%\n",
            "green: 30.0%\n",
            "blue: 10.0%\n",
            "purple: 40.0%\n"
          ],
          "name": "stdout"
        }
      ]
    },
    {
      "cell_type": "markdown",
      "metadata": {
        "id": "cO7pc5CFpVzI"
      },
      "source": [
        "스킵 - 안해도됨"
      ]
    },
    {
      "cell_type": "code",
      "metadata": {
        "id": "Ej_gWa3oSLAX",
        "outputId": "1de011cd-c635-4565-d51a-aa3a8dec287c"
      },
      "source": [
        "a = [\"red\", \"green\", \"blue\", \"purple\"]\n",
        "b = [0.2, 0.3, 0.1, 0.4]\n",
        "for a_, b_ in zip(a, b):\n",
        "    print(\"{}: {}%\".format(a_, b_*100))\n"
      ],
      "execution_count": null,
      "outputs": [
        {
          "output_type": "stream",
          "text": [
            "red: 20.0%\n",
            "green: 30.0%\n",
            "blue: 10.0%\n",
            "purple: 40.0%\n"
          ],
          "name": "stdout"
        }
      ]
    },
    {
      "cell_type": "markdown",
      "metadata": {
        "id": "TDOkbDVapWpT"
      },
      "source": [
        "스킵 - 안해도됨"
      ]
    },
    {
      "cell_type": "code",
      "metadata": {
        "id": "dD-ephD3SLAX",
        "outputId": "69d729f8-996a-41be-d84b-f1bd2a7c809c"
      },
      "source": [
        "a = 0\n",
        "if a == 0:\n",
        "    print(a)\n",
        "else:\n",
        "    print(a+1)"
      ],
      "execution_count": null,
      "outputs": [
        {
          "output_type": "stream",
          "text": [
            "0\n"
          ],
          "name": "stdout"
        }
      ]
    },
    {
      "cell_type": "markdown",
      "metadata": {
        "id": "9_Fd7lAsi5g_"
      },
      "source": [
        "체크 - else 옆에 : 있는 거 주의!"
      ]
    },
    {
      "cell_type": "markdown",
      "metadata": {
        "id": "M8FLBZB4pZE5"
      },
      "source": [
        "제어문이 두 개가 존재. \n",
        "\n",
        "하나는 loop : for 사용\n",
        "다른 하나는 condition : if 사용\n",
        "\n",
        "# if제어문\n",
        "\n",
        "if ~ :\n",
        "\n",
        "  무엇을 실행하라\n",
        "\n",
        "else:\n",
        "\n",
        "  무엇을 실행하라\n",
        "\n",
        "  의 형식으로 이루어져 있다.\n",
        "\n",
        " if a == o: 할 때, 반드시 =가 아닌 == 로 적어줄 것!!\n"
      ]
    },
    {
      "cell_type": "code",
      "metadata": {
        "id": "M0AZaDMvSLAY",
        "outputId": "b25a5fe6-defa-4549-85b0-0c146ff7a2a0"
      },
      "source": [
        "for i in range(1, 3):\n",
        "    for j in range(3, 5):\n",
        "        print(i*j)"
      ],
      "execution_count": null,
      "outputs": [
        {
          "output_type": "stream",
          "text": [
            "3\n",
            "4\n",
            "6\n",
            "8\n"
          ],
          "name": "stdout"
        }
      ]
    },
    {
      "cell_type": "markdown",
      "metadata": {
        "id": "JUeqcRfhqs3n"
      },
      "source": [
        "# for 루프가 여러번 도는 경우!!\n",
        "\n",
        "첫번째 for를 보면, range(1,3)이니까 1이랑 2가 i에 루핑되어 적용되는 것.\n",
        "\n",
        "두번째 for는, range(3,5)이니까 3이랑 4가 j에 루핑되어 프린트되는 것.\n",
        "\n",
        "i가 1일 때 -> 3이랑 4가 출력\n",
        "\n",
        "i가 2일 때 -> 3이랑 4가 출력\n",
        "\n",
        "따라서 출력 값은, \n",
        "\n",
        "1*3 = 3\n",
        "\n",
        "1*4 = 4\n",
        "\n",
        "2*3 = 6\n",
        "\n",
        "2*4 = 8\n",
        "\n",
        "이 나오게 된다.\n",
        "\n",
        "체크 - 'print가 몇번이 되느냐' 가 시험 문제가 될 수도 있음 - 4번인거겠지."
      ]
    },
    {
      "cell_type": "code",
      "metadata": {
        "id": "ZPpZmVIHSLAY",
        "outputId": "0bbcc529-c1d8-4774-e1ad-9de8b9e065ce"
      },
      "source": [
        "for i in range(1, 3):\n",
        "    for j in range(3, 5):\n",
        "        if j >=4:\n",
        "            print(i*j)"
      ],
      "execution_count": null,
      "outputs": [
        {
          "output_type": "stream",
          "text": [
            "4\n",
            "8\n"
          ],
          "name": "stdout"
        }
      ]
    },
    {
      "cell_type": "markdown",
      "metadata": {
        "id": "QDrDGomar5c8"
      },
      "source": [
        "# for 두개, if가 들어간 경우\n",
        "\n",
        "range(1,3) 이니까 1,2가 루핑\n",
        "\n",
        "range(3,5)이니까 3,4가 루핑\n",
        "\n",
        "j가 4 이상인 경우만 i*j값을 프린트 하는거니까\n",
        "\n",
        "1*4 = 4\n",
        "\n",
        "2*4 = 8\n",
        "\n",
        "이 출력된다.\n"
      ]
    },
    {
      "cell_type": "code",
      "metadata": {
        "id": "JQXk5vi0SLAY",
        "outputId": "cd3306f3-6d6d-446e-dd4a-f7f4e11dd967"
      },
      "source": [
        "a = [1, 2, 3, 4]\n",
        "b = [i for i in a if i >=2]\n",
        "b"
      ],
      "execution_count": null,
      "outputs": [
        {
          "output_type": "execute_result",
          "data": {
            "text/plain": [
              "[2, 3, 4]"
            ]
          },
          "metadata": {
            "tags": []
          },
          "execution_count": 12
        }
      ]
    },
    {
      "cell_type": "markdown",
      "metadata": {
        "id": "dMdNt99YsauP"
      },
      "source": [
        "# for가 리스트 안에 들어가있는 경우.\n",
        "\n",
        "a에서 루핑하는 i를 b라는 리스트로 만드는 케이스이다.\n",
        "\n",
        "i는 a에서 오는 거니까, 1, 2, 3, 4가 출력되는데, \n",
        "\n",
        "이 중 if 조건에 부합하는 2 이상인 요소들 2, 3, 4가 b라는 리스트로 생성될 것이다."
      ]
    },
    {
      "cell_type": "code",
      "metadata": {
        "id": "MDmBGZ3LSLAZ",
        "outputId": "bd06f885-7334-43d9-d92d-848c615f6771"
      },
      "source": [
        "a = ['red', 'green', 'blue', 'purple']\n",
        "b = [i for i in a if len(i) >=4]\n",
        "b"
      ],
      "execution_count": null,
      "outputs": [
        {
          "output_type": "execute_result",
          "data": {
            "text/plain": [
              "['green', 'blue', 'purple']"
            ]
          },
          "metadata": {
            "tags": []
          },
          "execution_count": 13
        }
      ]
    },
    {
      "cell_type": "markdown",
      "metadata": {
        "id": "jv1O0sfPtZbN"
      },
      "source": [
        "i는 a의 요소들이 루핑되는 것 -> i는 red, green, blue, purple이 출력될 것\n",
        "\n",
        " 이중 if 조건에 부합하는 것: 4글자 이상인 것이 출력.\n",
        "\n",
        "\n",
        " 체크 - 다 숙지하기 이번 파일에 있는 것들.\n",
        " "
      ]
    }
  ]
}