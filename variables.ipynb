{
  "nbformat": 4,
  "nbformat_minor": 0,
  "metadata": {
    "kernelspec": {
      "display_name": "Python 3",
      "language": "python",
      "name": "python3"
    },
    "language_info": {
      "codemirror_mode": {
        "name": "ipython",
        "version": 3
      },
      "file_extension": ".py",
      "mimetype": "text/x-python",
      "name": "python",
      "nbconvert_exporter": "python",
      "pygments_lexer": "ipython3",
      "version": "3.7.1"
    },
    "colab": {
      "name": "variables.ipynb",
      "provenance": [],
      "include_colab_link": true
    }
  },
  "cells": [
    {
      "cell_type": "markdown",
      "metadata": {
        "id": "view-in-github",
        "colab_type": "text"
      },
      "source": [
        "<a href=\"https://colab.research.google.com/github/JinseongKang/memo/blob/main/variables.ipynb\" target=\"_parent\"><img src=\"https://colab.research.google.com/assets/colab-badge.svg\" alt=\"Open In Colab\"/></a>"
      ]
    },
    {
      "cell_type": "code",
      "metadata": {
        "id": "goAyoU7vRheI",
        "colab": {
          "base_uri": "https://localhost:8080/"
        },
        "outputId": "d4fb8c9b-3207-4be9-c649-b75dc3a3ccf0"
      },
      "source": [
        "a = 1.2 \n",
        "print(type(a))\n"
      ],
      "execution_count": null,
      "outputs": [
        {
          "output_type": "stream",
          "text": [
            "<class 'float'>\n"
          ],
          "name": "stdout"
        }
      ]
    },
    {
      "cell_type": "markdown",
      "metadata": {
        "id": "M_ojxYzIfay-"
      },
      "source": [
        "두 개의 함수가 쓰였다. \n",
        "\n",
        "Type이라는 함수와 print라는 함수!\n"
      ]
    },
    {
      "cell_type": "markdown",
      "metadata": {
        "id": "0ptLEOcMSTIO"
      },
      "source": [
        "int = 정수\n",
        "\n",
        "float = 소수"
      ]
    },
    {
      "cell_type": "code",
      "metadata": {
        "id": "txxnoqJuRheJ",
        "colab": {
          "base_uri": "https://localhost:8080/"
        },
        "outputId": "b69d5975-96ad-46f6-cebc-b9c8cbdfbc22"
      },
      "source": [
        "a = 5 ; a = float(a); print(type(a))"
      ],
      "execution_count": null,
      "outputs": [
        {
          "output_type": "stream",
          "text": [
            "<class 'float'>\n"
          ],
          "name": "stdout"
        }
      ]
    },
    {
      "cell_type": "markdown",
      "metadata": {
        "id": "rJpufPaaIFZ5"
      },
      "source": [
        "a는 5인데 \n",
        "\n",
        "5.0이라는 float로 바꾸고 type을 출력하는거니까\n",
        "\n",
        "<class 'float'>가 나옴."
      ]
    },
    {
      "cell_type": "code",
      "metadata": {
        "id": "By9UCBctRheK",
        "colab": {
          "base_uri": "https://localhost:8080/"
        },
        "outputId": "8877daae-4a56-433e-9814-b139c92307ae"
      },
      "source": [
        "a = 1.7; a = int(a); print(type(a))"
      ],
      "execution_count": null,
      "outputs": [
        {
          "output_type": "stream",
          "text": [
            "<class 'int'>\n"
          ],
          "name": "stdout"
        }
      ]
    },
    {
      "cell_type": "markdown",
      "metadata": {
        "id": "UQTVzlOaIk-T"
      },
      "source": [
        "a = 1.7이라는 float인데\n",
        "\n",
        "이걸 int로 하면 반올림 -> 2 가 나오고 이것의 type은 int"
      ]
    },
    {
      "cell_type": "code",
      "metadata": {
        "id": "SyP0PB86RheL",
        "colab": {
          "base_uri": "https://localhost:8080/",
          "height": 52
        },
        "outputId": "47c9e9a6-49c2-40ba-c54a-d2c4874991c2"
      },
      "source": [
        "a = '3423'; print(type(a)); print(a[2])"
      ],
      "execution_count": null,
      "outputs": [
        {
          "output_type": "stream",
          "text": [
            "<class 'str'>\n"
          ],
          "name": "stdout"
        },
        {
          "output_type": "execute_result",
          "data": {
            "application/vnd.google.colaboratory.intrinsic+json": {
              "type": "string"
            },
            "text/plain": [
              "'2'"
            ]
          },
          "metadata": {
            "tags": []
          },
          "execution_count": 10
        }
      ]
    },
    {
      "cell_type": "markdown",
      "metadata": {
        "id": "78W827e-I3xY"
      },
      "source": [
        "a가 '3423'이라는 문자열 -> str\n",
        "\n",
        "a[2]면 문자열 중 세번째 -> 2가 출력."
      ]
    },
    {
      "cell_type": "code",
      "metadata": {
        "id": "byDy9oFERheL",
        "colab": {
          "base_uri": "https://localhost:8080/",
          "height": 69
        },
        "outputId": "b39f207f-e0f5-414b-cf50-c1361a4805ff"
      },
      "source": [
        "a = '2425'; a = list(a); print(type(a)); print(a); print(a[3])"
      ],
      "execution_count": null,
      "outputs": [
        {
          "output_type": "stream",
          "text": [
            "<class 'list'>\n",
            "['2', '4', '2', '5']\n"
          ],
          "name": "stdout"
        },
        {
          "output_type": "execute_result",
          "data": {
            "application/vnd.google.colaboratory.intrinsic+json": {
              "type": "string"
            },
            "text/plain": [
              "'5'"
            ]
          },
          "metadata": {
            "tags": []
          },
          "execution_count": 13
        }
      ]
    },
    {
      "cell_type": "markdown",
      "metadata": {
        "id": "0qBlsu0LJJ7e"
      },
      "source": [
        "'2425'라는 문자열을 리스트화 하면 -> [2,4,2,5]가 되고 \n",
        "\n",
        "이것의 type은 list\n",
        "\n",
        "출력하면 리스트 자체가 출력, \n",
        "\n",
        "네번째요소는 5"
      ]
    },
    {
      "cell_type": "code",
      "metadata": {
        "id": "DfS-gknCRheL",
        "colab": {
          "base_uri": "https://localhost:8080/"
        },
        "outputId": "51b31bdf-1c82-48fd-beae-67f3f0852440"
      },
      "source": [
        "a = ['43', '56', ['12', '45']]; print(type(a)); print(a[2]); print(a[1]); print(a[0])"
      ],
      "execution_count": null,
      "outputs": [
        {
          "output_type": "stream",
          "text": [
            "<class 'list'>\n",
            "['12', '45']\n",
            "56\n",
            "43\n"
          ],
          "name": "stdout"
        }
      ]
    },
    {
      "cell_type": "markdown",
      "metadata": {
        "id": "zIlymMxsfiow"
      },
      "source": [
        "List를 가지고 시험문제를 왕창 낼 것이다!\n",
        "\n",
        "만약, 여기서 print(a[2][1][1]) 이라고 시험 문제가 나오면, \n",
        "\n",
        "3번째인 ['12', '45'] -> 그 중 2번째인 '45' -> 그 중 2번째인 5가 최종적으로 출력된다!!!!!!!!!!!!!!!! 밑에 예시."
      ]
    },
    {
      "cell_type": "code",
      "metadata": {
        "id": "I4NeJqp3JftP",
        "outputId": "9898c889-1a6a-4e83-d5bd-3687b440b5f2",
        "colab": {
          "base_uri": "https://localhost:8080/"
        }
      },
      "source": [
        "a = ['1', '2', '3', ['23', '24']]\n",
        "print(a[3][1][1])\n"
      ],
      "execution_count": 1,
      "outputs": [
        {
          "output_type": "stream",
          "text": [
            "4\n"
          ],
          "name": "stdout"
        }
      ]
    },
    {
      "cell_type": "markdown",
      "metadata": {
        "id": "hJxKN-03J69y"
      },
      "source": [
        "이거 중요!!!!!"
      ]
    },
    {
      "cell_type": "code",
      "metadata": {
        "id": "wuUZdEnyRheM",
        "colab": {
          "base_uri": "https://localhost:8080/"
        },
        "outputId": "b5666351-3441-4f0d-b37c-137b690566a8"
      },
      "source": [
        "a = ('43', '56', ['12', '45']); print(type(a)); print(a[2]); print(a[1]); print(a[0])"
      ],
      "execution_count": null,
      "outputs": [
        {
          "output_type": "stream",
          "text": [
            "<class 'tuple'>\n",
            "['12', '45']\n",
            "56\n",
            "43\n"
          ],
          "name": "stdout"
        }
      ]
    },
    {
      "cell_type": "markdown",
      "metadata": {
        "id": "Foc8L0fTRsae"
      },
      "source": [
        "튜플과 리스트의 차이점? \n",
        "\n",
        "튜플은 요소를 바꿀 수가 없다 = 리스트에 비해 안전하다. \n",
        "\n",
        "\n",
        "Ex)\n",
        "\n",
        "a = [1, 2, 3] \n",
        "\n",
        "a = -1 \n",
        "\n",
        "a \n",
        "\n",
        "[-1, 2, 3] \n",
        "\n",
        "이런식으로 요소를 바꾸는 것이 list는 가능한데, 튜플은 불가능함! "
      ]
    },
    {
      "cell_type": "code",
      "metadata": {
        "id": "2sivfloGRheM",
        "colab": {
          "base_uri": "https://localhost:8080/"
        },
        "outputId": "ad46108b-1e8a-4e99-a656-96d1bb12921c"
      },
      "source": [
        "a =\t{\"month\": \"03\", \"day\": \"16\", \"year\": 2021}\n",
        "print(type(a))\n",
        "print(a[\"year\"])"
      ],
      "execution_count": null,
      "outputs": [
        {
          "output_type": "stream",
          "text": [
            "<class 'dict'>\n",
            "2021\n"
          ],
          "name": "stdout"
        }
      ]
    },
    {
      "cell_type": "markdown",
      "metadata": {
        "id": "zaJq-NXWSytH"
      },
      "source": [
        "dict = dictionary 형태 = { 이런 형태 } = 사전과 같은 것\n",
        "\n",
        "리스트는 [   ]\n",
        "\n",
        "튜플은 (   )"
      ]
    },
    {
      "cell_type": "code",
      "metadata": {
        "id": "A7teRXuCRheN",
        "colab": {
          "base_uri": "https://localhost:8080/"
        },
        "outputId": "a8567e7f-28ab-4867-a7a7-7deaa4ebe8a6"
      },
      "source": [
        "a=[(13,23,34), (33,82,3)]\n",
        "print(type(a))\n",
        "a"
      ],
      "execution_count": null,
      "outputs": [
        {
          "output_type": "stream",
          "text": [
            "<class 'list'>\n"
          ],
          "name": "stdout"
        },
        {
          "output_type": "execute_result",
          "data": {
            "text/plain": [
              "[(13, 23, 34), (33, 82, 3)]"
            ]
          },
          "metadata": {
            "tags": []
          },
          "execution_count": 28
        }
      ]
    }
  ]
}